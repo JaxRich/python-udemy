{
 "cells": [
  {
   "cell_type": "markdown",
   "metadata": {},
   "source": [
    "Una celda de tipo markdown sirver para tomar apuntes y documentar"
   ]
  },
  {
   "cell_type": "markdown",
   "metadata": {},
   "source": [
    "para titulos se utiliza # texto, y se verá como en el renglón de abajo"
   ]
  },
  {
   "cell_type": "markdown",
   "metadata": {},
   "source": [
    "-- # titulo"
   ]
  },
  {
   "cell_type": "markdown",
   "metadata": {},
   "source": [
    "# Esto es un título (#)"
   ]
  },
  {
   "cell_type": "markdown",
   "metadata": {},
   "source": [
    "-- ## subtitulo"
   ]
  },
  {
   "cell_type": "markdown",
   "metadata": {},
   "source": [
    "## Esto es un subtitulo (##)"
   ]
  },
  {
   "cell_type": "markdown",
   "metadata": {},
   "source": [
    "Si no se usan almohadillas, es texto plano, enfocado en párrafos"
   ]
  },
  {
   "cell_type": "markdown",
   "metadata": {},
   "source": [
    "Mientras más almohadillas # se pongan, más pequeño se hace el texto (hasta 4 #)"
   ]
  },
  {
   "cell_type": "markdown",
   "metadata": {},
   "source": [
    "### texto con 3 almohadillas (###)"
   ]
  },
  {
   "cell_type": "markdown",
   "metadata": {},
   "source": [
    "#### texto con 4 almohadillas (####)"
   ]
  },
  {
   "cell_type": "markdown",
   "metadata": {},
   "source": [
    "---------------------------------------------------------------------------------\n",
    "\n",
    "Para poner parte del texto en CURSIVA se pone entre asteriscos *\n",
    "\n",
    "aplicando el formato ---> [*texto en cursiva*] \n",
    "\n",
    "texto normal -----> [texto en cursiva]"
   ]
  },
  {
   "cell_type": "markdown",
   "metadata": {},
   "source": [
    "---------------------------------------------------------------------------------\n",
    "\n",
    "Para poner parte del texto en NEGRITA se pone entre dobles asteriscos **\n",
    "\n",
    "aplicando el formato ---> [**texto en negrita**] SAS\n",
    "\n",
    "texto normal -----> [texto en negrita]"
   ]
  },
  {
   "cell_type": "code",
   "execution_count": null,
   "metadata": {},
   "outputs": [],
   "source": []
  }
 ],
 "metadata": {
  "kernelspec": {
   "display_name": "Python 3",
   "language": "python",
   "name": "python3"
  },
  "language_info": {
   "codemirror_mode": {
    "name": "ipython",
    "version": 3
   },
   "file_extension": ".py",
   "mimetype": "text/x-python",
   "name": "python",
   "nbconvert_exporter": "python",
   "pygments_lexer": "ipython3",
   "version": "3.7.1"
  }
 },
 "nbformat": 4,
 "nbformat_minor": 2
}
